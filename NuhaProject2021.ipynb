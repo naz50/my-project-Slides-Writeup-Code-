{
 "cells": [
  {
   "cell_type": "code",
   "execution_count": null,
   "id": "c43b1fd7",
   "metadata": {},
   "outputs": [],
   "source": [
    "import pandas as pd\n",
    "import numpy as np\n",
    "%config InlineBackend.figure_format = 'png'\n",
    "import matplotlib.pyplot as plt\n",
    "from sklearn import datasets\n",
    "import seaborn as sns\n",
    "import plotly\n",
    "plotly.offline.init_notebook_mode(connected=True)\n",
    "from matplotlib.pyplot import figure\n",
    "import plotly.offline as py\n",
    "sns.set_theme(style=\"whitegrid\")\n",
    "import plotly.express as px\n",
    "import plotly.graph_objects as go\n",
    "import matplotlib.colors as mcolors\n",
    "%matplotlib inline \n",
    "from __future__ import print_function\n",
    "from sklearn.neighbors import KNeighborsClassifier\n",
    "from sklearn import metrics\n",
    "plt.style.use('ggplot')\n",
    "%matplotlib inline\n",
    "np.set_printoptions(suppress=True) "
   ]
  },
  {
   "cell_type": "code",
   "execution_count": null,
   "id": "9883c54a",
   "metadata": {},
   "outputs": [],
   "source": [
    "data=pd.read_csv('NuhaDBooo.csv')\n",
    "data.head()"
   ]
  },
  {
   "cell_type": "code",
   "execution_count": null,
   "id": "2e602f7d",
   "metadata": {},
   "outputs": [],
   "source": [
    "data.dtypes"
   ]
  },
  {
   "cell_type": "code",
   "execution_count": null,
   "id": "8862ad6e",
   "metadata": {},
   "outputs": [],
   "source": [
    "sns.histplot(data['SpreedCovid19'], kde=False,bins=8, stat='density');"
   ]
  },
  {
   "cell_type": "code",
   "execution_count": null,
   "id": "0120b42c",
   "metadata": {},
   "outputs": [],
   "source": [
    "data['WorkHoliday'].value_counts().plot.bar(figsize = (7, 7), title = 'Spreed Covid19', color = 'crimson')\n",
    "plt.xlabel('Type of Weekday')\n",
    "plt.ylabel('Frequency');\n",
    "#plt.savefig('p11.png')\n"
   ]
  },
  {
   "cell_type": "code",
   "execution_count": null,
   "id": "c0609731",
   "metadata": {},
   "outputs": [],
   "source": [
    "from matplotlib.pyplot import figure\n",
    "figure(figsize=(27, 27), dpi=100)\n",
    "x = data.Region #[1:47187]\n",
    "y = data.CasesNumber #[1:47187]\n",
    "plt.plot(x, y)\n",
    "plt.xlabel('The Region of KSA',fontsize = 30, weight = 'bold',color='green');\n",
    "plt.ylabel('The cases Number of Covid19',fontsize = 30, weight = 'bold',color='red');\n",
    "#plt.savefig('p2.png')\n",
    "plt.show()"
   ]
  },
  {
   "cell_type": "code",
   "execution_count": null,
   "id": "293cc135",
   "metadata": {},
   "outputs": [],
   "source": [
    "figure(figsize=(26, 26), dpi=100)\n",
    "sns.barplot(x = 'Region',y='CasesNumber',data=data);\n",
    "plt.xlabel('The Region of KSA',fontsize = 25, weight = 'bold',color='green');\n",
    "plt.ylabel('The cases Number of Covid19',fontsize = 25, weight = 'bold',color='red');\n",
    "#plt.savefig('p2.png')\n",
    "plt.show()"
   ]
  },
  {
   "cell_type": "code",
   "execution_count": null,
   "id": "7cb1ac6f",
   "metadata": {},
   "outputs": [],
   "source": [
    "figure(figsize=(26, 26), dpi=100)\n",
    "sns.barplot(x=\"Region\", y=\"CasesNumber\", hue=\"Indicator\", data=data, color='indigo') #maroon#indigo\n",
    "#plt.savefig('p3.png')\n"
   ]
  },
  {
   "cell_type": "code",
   "execution_count": null,
   "id": "942edac8",
   "metadata": {},
   "outputs": [],
   "source": [
    "sns.scatterplot(data=data, x=\"CasesNumber\", y=\"Region\", hue=\"Region\")\n",
    "#plt.savefig('p4.png')"
   ]
  },
  {
   "cell_type": "code",
   "execution_count": null,
   "id": "44f0bbbc",
   "metadata": {},
   "outputs": [],
   "source": [
    "sns.scatterplot(data=data, x=\"SpreedCovid19\", y=\"Region\", hue=\"Region\")\n",
    "#plt.savefig('p5.png')\n"
   ]
  },
  {
   "cell_type": "code",
   "execution_count": null,
   "id": "8f3dbd2d",
   "metadata": {},
   "outputs": [],
   "source": [
    "data['Region'].value_counts().plot.bar(figsize = (7, 7), title = 'Spreed Covid19', color = 'crimson')\n",
    "plt.xlabel('Region')\n",
    "plt.ylabel('Spreed Covid19');\n",
    "#plt.savefig('p6.png')\n"
   ]
  },
  {
   "cell_type": "code",
   "execution_count": null,
   "id": "385c3042",
   "metadata": {},
   "outputs": [],
   "source": [
    "data.isna()"
   ]
  },
  {
   "cell_type": "code",
   "execution_count": null,
   "id": "2e3e1653",
   "metadata": {},
   "outputs": [],
   "source": [
    "# Text preprocessing steps - remove numbers in string, captial letters and punctuation\n",
    "import re\n",
    "import string\n",
    "alphanumeric = lambda x: re.sub('\\w*\\d\\w*', ' ', x)\n",
    "punc_lower = lambda x: re.sub('[%s]' % re.escape(string.punctuation), ' ', x.lower())\n",
    "\n",
    "data['DC'] = data.DC.map(alphanumeric).map(punc_lower)\n",
    "data['Indicator'] = data.Indicator.map(alphanumeric).map(punc_lower)\n",
    "data['City'] = data.City.map(alphanumeric).map(punc_lower)\n",
    "data['Day'] = data.Day.map(alphanumeric).map(punc_lower)\n",
    "data['Region'] = data.Region.map(alphanumeric).map(punc_lower)\n",
    "data['WorkHoliday'] = data.WorkHoliday.map(alphanumeric).map(punc_lower)\n",
    "data['Country'] = data.Country.map(alphanumeric).map(punc_lower)\n",
    "data['SpreedCovid19'] = data.SpreedCovid19.map(alphanumeric).map(punc_lower)\n",
    "\n",
    "data.head()"
   ]
  },
  {
   "cell_type": "code",
   "execution_count": null,
   "id": "ae126359",
   "metadata": {},
   "outputs": [],
   "source": [
    "from sklearn.preprocessing import LabelEncoder\n",
    "le=LabelEncoder() \n",
    "#features \n",
    "data.DC =le.fit_transform(data.DC)\n",
    "data.Indicator =le.fit_transform(data.Indicator)\n",
    "data.Date =le.fit_transform(data.Date)\n",
    "data.Day=le.fit_transform(data.Day)\n",
    "data.City=le.fit_transform(data.City)\n",
    "data.Region=le.fit_transform(data.Region)\n",
    "data.WorkHoliday=le.fit_transform(data.WorkHoliday)\n",
    "data.Country=le.fit_transform(data.Country)\n",
    "#Lebel\n",
    "data.SpreedCovid19=le.fit_transform(data.SpreedCovid19)"
   ]
  },
  {
   "cell_type": "code",
   "execution_count": null,
   "id": "3c3e8004",
   "metadata": {},
   "outputs": [],
   "source": [
    "y=data.iloc[:,-1]\n",
    "X=data.iloc[:,0:10]"
   ]
  },
  {
   "cell_type": "code",
   "execution_count": null,
   "id": "4279d2a5",
   "metadata": {},
   "outputs": [],
   "source": [
    "data"
   ]
  },
  {
   "cell_type": "code",
   "execution_count": null,
   "id": "c79034e8",
   "metadata": {},
   "outputs": [],
   "source": [
    "data.dtypes"
   ]
  },
  {
   "cell_type": "code",
   "execution_count": null,
   "id": "3e1093d9",
   "metadata": {},
   "outputs": [],
   "source": [
    "y"
   ]
  },
  {
   "cell_type": "code",
   "execution_count": null,
   "id": "fddd48b9",
   "metadata": {},
   "outputs": [],
   "source": [
    "data.dtypes"
   ]
  },
  {
   "cell_type": "code",
   "execution_count": null,
   "id": "75c08a48",
   "metadata": {},
   "outputs": [],
   "source": [
    "X.dtypes"
   ]
  },
  {
   "cell_type": "code",
   "execution_count": null,
   "id": "da55e57d",
   "metadata": {},
   "outputs": [],
   "source": [
    "X.columns"
   ]
  },
  {
   "cell_type": "code",
   "execution_count": null,
   "id": "2358576d",
   "metadata": {},
   "outputs": [],
   "source": [
    "from sklearn.model_selection import train_test_split\n",
    "from sklearn.preprocessing import StandardScaler\n",
    "from sklearn.preprocessing import StandardScaler, PolynomialFeatures\n",
    "from sklearn.model_selection import train_test_split\n",
    "from sklearn import preprocessing, model_selection\n",
    "from sklearn.preprocessing import StandardScaler\n",
    "X_train,X_test,y_train,y_test=train_test_split(X,y,test_size=0.20,random_state=42)\n",
    "\n",
    "X_train, X_test,y_train, y_test = model_selection.train_test_split(X,y)\n",
    "\n",
    "scaler = StandardScaler()\n",
    "X_train = scaler.fit_transform(X_train)\n",
    "X_test = scaler.fit_transform(X_test)\n"
   ]
  },
  {
   "cell_type": "code",
   "execution_count": null,
   "id": "b00f0111",
   "metadata": {},
   "outputs": [],
   "source": [
    "y_train"
   ]
  },
  {
   "cell_type": "code",
   "execution_count": null,
   "id": "b2562a6e",
   "metadata": {},
   "outputs": [],
   "source": [
    "#X_train"
   ]
  },
  {
   "cell_type": "code",
   "execution_count": null,
   "id": "b1f97979",
   "metadata": {},
   "outputs": [],
   "source": [
    "#X_test"
   ]
  },
  {
   "cell_type": "code",
   "execution_count": null,
   "id": "28a9f77f",
   "metadata": {},
   "outputs": [],
   "source": [
    "data"
   ]
  },
  {
   "cell_type": "code",
   "execution_count": null,
   "id": "2422999a",
   "metadata": {},
   "outputs": [],
   "source": [
    "#defie model and fit train dataset\n",
    "from sklearn.metrics import accuracy_score\n",
    "from sklearn.neural_network import MLPClassifier\n",
    "cls= MLPClassifier(alpha=.1, max_iter=10000) \n",
    "cls.fit(X_train,y_train)\n"
   ]
  },
  {
   "cell_type": "code",
   "execution_count": null,
   "id": "2cda975e",
   "metadata": {},
   "outputs": [],
   "source": [
    "print(\"The score for MLPClassifier is\")\n",
    "print(\"Training: {:6.2f}%\".format(100*cls.score(X_train, y_train)))\n",
    "print(\"Test set: {:6.2f}%\".format(100*cls.score(X_test, y_test)))"
   ]
  },
  {
   "cell_type": "code",
   "execution_count": null,
   "id": "b471335d",
   "metadata": {},
   "outputs": [],
   "source": [
    "from sklearn.model_selection import cross_val_score\n",
    "from sklearn.model_selection import KFold\n",
    "kf = KFold(n_splits=10, shuffle=True, random_state = 71)\n",
    "print(np.mean(cross_val_score(cls, X, y, cv=kf ,scoring='r2')))   "
   ]
  },
  {
   "cell_type": "code",
   "execution_count": null,
   "id": "8a3031a2",
   "metadata": {},
   "outputs": [],
   "source": [
    "#SCALER2\n",
    "from sklearn.preprocessing import StandardScaler\n",
    "scaler = StandardScaler()\n",
    "X_scaled = scaler.fit_transform(X)\n",
    "X_test_scaled = scaler.transform(X_test)\n",
    "cls =  MLPClassifier(alpha=.1, max_iter=10000)\n",
    "cls.fit(X_scaled,y)\n",
    "print(f'MLPClassifier: {cls.score(X_test_scaled, y_test):.3f}')"
   ]
  },
  {
   "cell_type": "code",
   "execution_count": null,
   "id": "bdb54344",
   "metadata": {},
   "outputs": [],
   "source": [
    "cls.score(X_train,y_train)"
   ]
  },
  {
   "cell_type": "code",
   "execution_count": null,
   "id": "bca1b19b",
   "metadata": {},
   "outputs": [],
   "source": [
    "cls.score(X_test,y_test)"
   ]
  },
  {
   "cell_type": "code",
   "execution_count": null,
   "id": "5055df4d",
   "metadata": {},
   "outputs": [],
   "source": [
    "print(cls.score(X_test, y_test))"
   ]
  },
  {
   "cell_type": "code",
   "execution_count": null,
   "id": "f0d15436",
   "metadata": {},
   "outputs": [],
   "source": [
    "y_pred=cls.predict(X_test)\n",
    "y_pred\n",
    "print(cls.predict(X_test))"
   ]
  },
  {
   "cell_type": "code",
   "execution_count": null,
   "id": "ddf79649",
   "metadata": {},
   "outputs": [],
   "source": [
    "if cls.predict([[0,1,10,9,8,101,12,40,2,0]])==0:\n",
    "    print (\"HIGH\")\n",
    "           \n",
    "else:\n",
    "     print (\"LOW\")"
   ]
  },
  {
   "cell_type": "code",
   "execution_count": null,
   "id": "367863b0",
   "metadata": {},
   "outputs": [],
   "source": [
    "import matplotlib as mpl \n",
    "mpl.rcParams['agg.path.chunksize'] = 1000\n",
    "plt.figure(figsize=(20, 10))\n",
    "plt.subplot(1,1,1)\n",
    "plt.plot(y_test,y_pred,color='purple',label='Prediction line',marker= \"s\")\n",
    "plt.title('Predicted Covid19 Cases')\n",
    "plt.xlabel('True Values')\n",
    "plt.ylabel('Predictions ')\n",
    "plt.legend(bbox_to_anchor=(1, 1))\n",
    "plt.show()\n",
    "#plt.savefig('Predictions66.png')"
   ]
  },
  {
   "cell_type": "code",
   "execution_count": null,
   "id": "91f4eb57",
   "metadata": {},
   "outputs": [],
   "source": [
    "#plt.scatter(y_test,y_pred)\n",
    "#plt.xlabel('True Values ')\n",
    "#plt.ylabel('Predictions ')\n",
    "#plt.axis('equal')\n",
    "#plt.axis('square')6\n",
    "#plt.plot([-100, 100], [-100, 100])\n",
    "#plt.savefig('Predictions.png')"
   ]
  },
  {
   "cell_type": "code",
   "execution_count": null,
   "id": "286b9b7f",
   "metadata": {},
   "outputs": [],
   "source": [
    "from sklearn.metrics import precision_score, recall_score, precision_recall_curve,f1_score, fbeta_score\n",
    "from sklearn.metrics import confusion_matrix\n",
    "cls.predict_proba(X_test[:5,])\n",
    "print(\"MLP confusion matrix: \\n\\n\", confusion_matrix(y_test,cls.predict(X_test)))\n"
   ]
  },
  {
   "cell_type": "code",
   "execution_count": null,
   "id": "3ec2ea3d",
   "metadata": {},
   "outputs": [],
   "source": [
    "print(\"Confusion matrix for silly model where we predict all 2's: \\n\\n\", \\\n",
    "      confusion_matrix(y_test, [2]*len(y_test)))"
   ]
  },
  {
   "cell_type": "code",
   "execution_count": null,
   "id": "1d98f044",
   "metadata": {},
   "outputs": [],
   "source": [
    "#thershold hna\n",
    "# using the default threshold of 0.5, which is what vanilla predict does\n",
    "from sklearn.metrics import precision_score, recall_score, precision_recall_curve,f1_score, fbeta_score\n",
    "y_predict = cls.predict(X_test)\n",
    "print(\"Default threshold:\")\n",
    "print(\"Precision: {:6.4f},   Recall: {:6.4f}\".format(precision_score(y_test, y_predict), \n",
    "                                                     recall_score(y_test, y_predict)))"
   ]
  },
  {
   "cell_type": "code",
   "execution_count": null,
   "id": "766389b8",
   "metadata": {},
   "outputs": [],
   "source": [
    "# We can also use the probabilities to make a curve showing us how recall \n",
    "# and thresholds trade off \n",
    "\n",
    "precision_curve, recall_curve, threshold_curve = precision_recall_curve(y_test, cls.predict_proba(X_test)[:,1] )\n",
    "\n",
    "plt.figure(dpi=80)\n",
    "plt.plot(threshold_curve, precision_curve[1:],label='precision')\n",
    "plt.plot(threshold_curve, recall_curve[1:], label='recall')\n",
    "plt.legend(loc='lower left')\n",
    "plt.xlabel('Threshold (above this probability, label as fraud)');\n",
    "plt.title('Precision and Recall Curves');\n",
    "#plt.savefig('Precision and Recall Curves.png')"
   ]
  },
  {
   "cell_type": "code",
   "execution_count": null,
   "id": "c0aa9897",
   "metadata": {},
   "outputs": [],
   "source": [
    "plt.figure(dpi=80)\n",
    "plt.plot(recall_curve[1:], precision_curve[1:],label='precision')\n",
    "plt.xlabel(\"Recall\")\n",
    "plt.ylabel(\"Precision\")\n",
    "plt.title(\"Precision-Recall Curve\");\n",
    "#plt.savefig('Precisionsd.png')"
   ]
  },
  {
   "cell_type": "code",
   "execution_count": null,
   "id": "a3bda44b",
   "metadata": {},
   "outputs": [],
   "source": [
    "#The ROC curve\n",
    "\n",
    "from sklearn.metrics import roc_auc_score, roc_curve\n",
    "\n",
    "fpr, tpr, thresholds = roc_curve(y_test, cls.predict_proba(X_test)[:,1])"
   ]
  },
  {
   "cell_type": "code",
   "execution_count": null,
   "id": "e4b30e3f",
   "metadata": {},
   "outputs": [],
   "source": [
    "plt.plot(fpr, tpr,lw=2)\n",
    "plt.plot([0,1],[0,1],c='violet',ls='--')\n",
    "plt.xlim([-0.05,1.05])\n",
    "plt.ylim([-0.05,1.05])\n",
    "\n",
    "\n",
    "plt.xlabel('False positive rate')\n",
    "plt.ylabel('True positive rate')\n",
    "plt.title('ROC curve for fraud problem');\n",
    "print(\"ROC AUC score = \", roc_auc_score(y_test, cls.predict_proba(X_test)[:,1]))\n",
    "#plt.savefig('ROC.png')"
   ]
  },
  {
   "cell_type": "code",
   "execution_count": null,
   "id": "fc90a54e",
   "metadata": {},
   "outputs": [],
   "source": [
    "from sklearn.metrics import log_loss\n",
    "\n",
    "print(\"Log-loss on logit: {:6.4f}\".format(log_loss(y_test, cls.predict_proba(X_test))))"
   ]
  },
  {
   "cell_type": "code",
   "execution_count": null,
   "id": "3df1bf3d",
   "metadata": {},
   "outputs": [],
   "source": [
    "from sklearn.dummy import DummyClassifier\n",
    "\n",
    "dc = DummyClassifier()\n",
    "dc.fit(X_train, y_train)\n",
    "print(\"Log-loss on dummy classifier: {:6.4f}\".format(log_loss(y_test, dc.predict_proba(X_test))))"
   ]
  },
  {
   "cell_type": "code",
   "execution_count": null,
   "id": "6131905f",
   "metadata": {},
   "outputs": [],
   "source": [
    "from sklearn.metrics import classification_report,confusion_matrix\n",
    "print(classification_report(y_test,y_pred))\n",
    "print(confusion_matrix(y_test,y_pred))"
   ]
  },
  {
   "cell_type": "code",
   "execution_count": null,
   "id": "4ad2dc55",
   "metadata": {},
   "outputs": [],
   "source": [
    "print(confusion_matrix(y_test,y_pred))"
   ]
  },
  {
   "cell_type": "code",
   "execution_count": null,
   "id": "8fc35ae6",
   "metadata": {},
   "outputs": [],
   "source": []
  }
 ],
 "metadata": {
  "kernelspec": {
   "display_name": "Python 3",
   "language": "python",
   "name": "python3"
  },
  "language_info": {
   "codemirror_mode": {
    "name": "ipython",
    "version": 3
   },
   "file_extension": ".py",
   "mimetype": "text/x-python",
   "name": "python",
   "nbconvert_exporter": "python",
   "pygments_lexer": "ipython3",
   "version": "3.8.8"
  }
 },
 "nbformat": 4,
 "nbformat_minor": 5
}
